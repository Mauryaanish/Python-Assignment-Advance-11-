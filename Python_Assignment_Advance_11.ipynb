{
  "nbformat": 4,
  "nbformat_minor": 0,
  "metadata": {
    "colab": {
      "provenance": []
    },
    "kernelspec": {
      "name": "python3",
      "display_name": "Python 3"
    },
    "language_info": {
      "name": "python"
    }
  },
  "cells": [
    {
      "cell_type": "markdown",
      "source": [
        "## Q1. What is the concept of a metaclass?\n",
        "\n",
        "Answer:- A metaclass in Python is a class of a class that defines how a class behaves. A class is itself an instance of a metaclass. A class in Python defines how the instance of the class will behave. In order to understand metaclasses well, one needs to have prior experience working with Python classes"
      ],
      "metadata": {
        "id": "SdqKppSGIm--"
      }
    },
    {
      "cell_type": "code",
      "source": [],
      "metadata": {
        "id": "uh0kAky5IuBw"
      },
      "execution_count": null,
      "outputs": []
    },
    {
      "cell_type": "markdown",
      "source": [
        "## Q2. What is the best way to declare a class&#39;s metaclass?\n",
        "\n",
        "Answer:- When defining a class and no metaclass is defined the default type metaclass will be used. If a metaclass is given and it is not an instance of type() , then it is used directly as the metaclass."
      ],
      "metadata": {
        "id": "Gi9cf5yxIubO"
      }
    },
    {
      "cell_type": "code",
      "source": [],
      "metadata": {
        "id": "ASOkvpyzI6Mn"
      },
      "execution_count": null,
      "outputs": []
    },
    {
      "cell_type": "markdown",
      "source": [
        "## Q3. How do class decorators overlap with metaclasses for handling classes?\n",
        "\n",
        "Answer:- Decorators essentially automate the prior example's manual name rebinding here. Just like with metaclasses, because the decorator returns the original class, instances are made from it, not from a wrapper object. In fact, instance creation is not intercepted at all"
      ],
      "metadata": {
        "id": "-4WrteltI6xn"
      }
    },
    {
      "cell_type": "code",
      "source": [],
      "metadata": {
        "id": "BVzqPgy4JFkQ"
      },
      "execution_count": null,
      "outputs": []
    },
    {
      "cell_type": "markdown",
      "source": [
        "## Q4. How do class decorators overlap with metaclasses for handling instances?\n",
        "\n",
        "Answer:- Decorators essentially automate the prior example's manual name rebinding here. Just like with metaclasses, because the decorator returns the original class, instances are made from it, not from a wrapper object. In fact, instance creation is not intercepted at al"
      ],
      "metadata": {
        "id": "bNDjmq81JJ09"
      }
    }
  ]
}